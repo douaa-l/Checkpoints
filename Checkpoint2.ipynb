{
 "cells": [
  {
   "cell_type": "code",
   "execution_count": 38,
   "id": "dcaef614",
   "metadata": {},
   "outputs": [],
   "source": [
    "# All numbers which are divisible by 7 but are not a multiple of 5 between 2000 and 3200\n",
    "def divSevenNotMulFive (minBound, maxBound):\n",
    "    result =[ ]\n",
    "    for num in range(minBound, maxBound+1):\n",
    "        if((num % 5 !=0 ) & (num % 7 == 0)):\n",
    "            result.append(num)\n",
    "    print(\"The number of numbers divisible by 7 and not multiple of 5 between \",minBound,\" and \",maxBound,\" is: \", len(result))        \n",
    "    print(result)"
   ]
  },
  {
   "cell_type": "code",
   "execution_count": 39,
   "id": "aea227a3",
   "metadata": {},
   "outputs": [
    {
     "name": "stdout",
     "output_type": "stream",
     "text": [
      "The number of numbers divisible by 7 and not multiple of 5 between  2000  and  3200  is:  138\n",
      "[2002, 2009, 2016, 2023, 2037, 2044, 2051, 2058, 2072, 2079, 2086, 2093, 2107, 2114, 2121, 2128, 2142, 2149, 2156, 2163, 2177, 2184, 2191, 2198, 2212, 2219, 2226, 2233, 2247, 2254, 2261, 2268, 2282, 2289, 2296, 2303, 2317, 2324, 2331, 2338, 2352, 2359, 2366, 2373, 2387, 2394, 2401, 2408, 2422, 2429, 2436, 2443, 2457, 2464, 2471, 2478, 2492, 2499, 2506, 2513, 2527, 2534, 2541, 2548, 2562, 2569, 2576, 2583, 2597, 2604, 2611, 2618, 2632, 2639, 2646, 2653, 2667, 2674, 2681, 2688, 2702, 2709, 2716, 2723, 2737, 2744, 2751, 2758, 2772, 2779, 2786, 2793, 2807, 2814, 2821, 2828, 2842, 2849, 2856, 2863, 2877, 2884, 2891, 2898, 2912, 2919, 2926, 2933, 2947, 2954, 2961, 2968, 2982, 2989, 2996, 3003, 3017, 3024, 3031, 3038, 3052, 3059, 3066, 3073, 3087, 3094, 3101, 3108, 3122, 3129, 3136, 3143, 3157, 3164, 3171, 3178, 3192, 3199]\n"
     ]
    }
   ],
   "source": [
    "divSevenNotMulFive(2000,3200)"
   ]
  },
  {
   "cell_type": "code",
   "execution_count": 41,
   "id": "179029e4",
   "metadata": {},
   "outputs": [],
   "source": [
    "# Factorial of a given number n\n",
    "\n",
    "def Facto (n):\n",
    "    if ((n == 0) | (n== 1) ):\n",
    "        return 1\n",
    "    else:\n",
    "        return n* Facto(n-1)"
   ]
  },
  {
   "cell_type": "code",
   "execution_count": 42,
   "id": "55c12ec7",
   "metadata": {},
   "outputs": [
    {
     "name": "stdout",
     "output_type": "stream",
     "text": [
      "Enter an integer number: 5\n",
      "120\n"
     ]
    }
   ],
   "source": [
    "controle= False \n",
    "while(controle != True):\n",
    "    try:\n",
    "        n=int(input(\"Enter an integer number: \"))\n",
    "        print(Facto(n))\n",
    "        controle = True        \n",
    "    except ValueError:\n",
    "        print(\"Please input integer only...\") \n"
   ]
  },
  {
   "cell_type": "code",
   "execution_count": 43,
   "id": "0960c907",
   "metadata": {},
   "outputs": [],
   "source": [
    "# Dictionary that contains (i, i*i) between 1 and n (both included) \n",
    "def generateDict ():\n",
    "    controle= False \n",
    "    while(controle != True):\n",
    "        try:\n",
    "            n=int(input(\"Enter an integer number: \"))\n",
    "            numDict = {}\n",
    "            for i in range(1, n+1):\n",
    "                numDict[i]=i*i\n",
    "            print( \" The dictionary for this number is :\")\n",
    "            print(numDict)\n",
    "            controle = True        \n",
    "        except ValueError:\n",
    "            print(\"Please input integer only...\") "
   ]
  },
  {
   "cell_type": "code",
   "execution_count": 44,
   "id": "ec47576a",
   "metadata": {},
   "outputs": [
    {
     "name": "stdout",
     "output_type": "stream",
     "text": [
      "Enter an integer number: 10\n",
      " The dictionary for this number is :\n",
      "{1: 1, 2: 4, 3: 9, 4: 16, 5: 25, 6: 36, 7: 49, 8: 64, 9: 81, 10: 100}\n"
     ]
    }
   ],
   "source": [
    "generateDict()"
   ]
  },
  {
   "cell_type": "code",
   "execution_count": 45,
   "id": "8cbf4e3e",
   "metadata": {},
   "outputs": [],
   "source": [
    "# function that return a new string where the char at index n has been removed\n",
    "\n",
    "def removeChar(strCheck, pos ):\n",
    "    if(strCheck == \" \"):\n",
    "        print(\"String is empty !\")\n",
    "    else:\n",
    "        if(pos > len(strCheck)-1):\n",
    "            print(\" Position out of range !\")\n",
    "        else:\n",
    "            newStr=\"\"\n",
    "            for i in range (0, len(strCheck)):\n",
    "                if(i != pos):\n",
    "                    newStr=newStr+ strCheck[i] \n",
    "            return newStr  "
   ]
  },
  {
   "cell_type": "code",
   "execution_count": 47,
   "id": "7dda78e0",
   "metadata": {},
   "outputs": [
    {
     "data": {
      "text/plain": [
       "'Doua'"
      ]
     },
     "execution_count": 47,
     "metadata": {},
     "output_type": "execute_result"
    }
   ],
   "source": [
    "removeChar(\"Douaa\",4)"
   ]
  },
  {
   "cell_type": "code",
   "execution_count": 48,
   "id": "ef538b50",
   "metadata": {},
   "outputs": [],
   "source": [
    "#convert a NumPy array into a Python list structure.\n",
    "def convertNumArrayList (numPyArray):\n",
    "    print(\"NumPyArray: \")\n",
    "    print(type(numPyArray))\n",
    "    print(numPyArray)\n",
    "    lis= numPyArray.tolist()\n",
    "    print(\"List: \")\n",
    "    print(lis)\n",
    "    print(type(lis))"
   ]
  },
  {
   "cell_type": "code",
   "execution_count": 49,
   "id": "d3f32b15",
   "metadata": {},
   "outputs": [
    {
     "name": "stdout",
     "output_type": "stream",
     "text": [
      "NumPyArray: \n",
      "<class 'numpy.ndarray'>\n",
      "[[0 1]\n",
      " [2 3]\n",
      " [4 5]]\n",
      "List: \n",
      "[[0, 1], [2, 3], [4, 5]]\n",
      "<class 'list'>\n"
     ]
    }
   ],
   "source": [
    "import numpy as np \n",
    "arr = np.array([[0,1], [2, 3] ,[4 ,5]])\n",
    "convertNumArrayList(arr)"
   ]
  },
  {
   "cell_type": "code",
   "execution_count": 50,
   "id": "57bec7b1",
   "metadata": {},
   "outputs": [],
   "source": [
    "# NumPy program to compute the covariance matrix of two given arrays\n",
    "def covArrays(array1,array2):\n",
    "    # Original array1\n",
    "    print(array1)\n",
    "  \n",
    "    # Original array2\n",
    "    print(array2)\n",
    "  \n",
    "    # Covariance matrix\n",
    "    print(\"\\nCovariance matrix of the said arrays:\\n\",\n",
    "    np.cov(array1, array2))\n",
    "    "
   ]
  },
  {
   "cell_type": "code",
   "execution_count": 51,
   "id": "b197d7b7",
   "metadata": {},
   "outputs": [
    {
     "name": "stdout",
     "output_type": "stream",
     "text": [
      "[0 1 2]\n",
      "[2 1 0]\n",
      "\n",
      "Covariance matrix of the said arrays:\n",
      " [[ 1. -1.]\n",
      " [-1.  1.]]\n"
     ]
    }
   ],
   "source": [
    "array1 = np.array([0,1,2])\n",
    "array2= np.array([2,1,0])\n",
    "covArrays(array1,array2)"
   ]
  },
  {
   "cell_type": "code",
   "execution_count": 52,
   "id": "bab9da9c",
   "metadata": {},
   "outputs": [],
   "source": [
    "# formula\n",
    "import math as mt \n",
    "def formula ():\n",
    "    Q= [ ]\n",
    "    L = list(map(int, input(\"Enter multiple values\\n\").split(', ')))\n",
    "    print(\"\\nThe values of input are\", L)\n",
    "    C=50\n",
    "    H=30\n",
    "    for num in range (0, len(L)):\n",
    "        Q.append(round(mt.sqrt(((2 * C * L[num])/H)))) \n",
    "    print(Q)"
   ]
  },
  {
   "cell_type": "code",
   "execution_count": 53,
   "id": "f1c94d5c",
   "metadata": {},
   "outputs": [
    {
     "name": "stdout",
     "output_type": "stream",
     "text": [
      "Enter multiple values\n",
      "100, 150, 180\n",
      "\n",
      "The values of input are [100, 150, 180]\n",
      "[18, 22, 24]\n"
     ]
    }
   ],
   "source": [
    "formula()"
   ]
  }
 ],
 "metadata": {
  "kernelspec": {
   "display_name": "Python 3 (ipykernel)",
   "language": "python",
   "name": "python3"
  },
  "language_info": {
   "codemirror_mode": {
    "name": "ipython",
    "version": 3
   },
   "file_extension": ".py",
   "mimetype": "text/x-python",
   "name": "python",
   "nbconvert_exporter": "python",
   "pygments_lexer": "ipython3",
   "version": "3.9.7"
  }
 },
 "nbformat": 4,
 "nbformat_minor": 5
}
